{
 "cells": [
  {
   "cell_type": "code",
   "execution_count": 2,
   "metadata": {},
   "outputs": [],
   "source": [
    "import xarray as xr \n",
    "import dask as da\n",
    "import os\n",
    "import matplotlib.pyplot as plt\n",
    "import numpy as np"
   ]
  },
  {
   "cell_type": "markdown",
   "metadata": {},
   "source": [
    "## Constantes"
   ]
  },
  {
   "cell_type": "code",
   "execution_count": 1,
   "metadata": {},
   "outputs": [],
   "source": [
    "t_s = -1.0\n",
    "t_r = 3.0\n",
    "\n",
    "A_max = 20.0\n",
    "t_a = -10.0\n",
    "A_0 = 0.2\n",
    "a = 0.2\n",
    "b = 0.1"
   ]
  },
  {
   "cell_type": "code",
   "execution_count": 3,
   "metadata": {},
   "outputs": [],
   "source": [
    "#ruta_actual = os.getcwd()\n",
    "\n",
    "# Construye la ruta completa a la carpeta \"datos\"\n",
    "#ruta_datos = os.path.join(ruta_actual, \"Tesina\", \"Data\")\n",
    "\n",
    "# Ahora puedes acceder a los archivos .nc en la carpeta \"datos\"\n",
    "#archivo_pr = os.path.join(ruta_datos, \"CR2MET_pr_v2.0_day_1979_2020_005deg.nc\")\n",
    "#archivo_t2m = os.path.join(ruta_datos, \"CR2MET_t2m_v2.0_day_1979_2020_005deg.nc\")\n",
    "\n",
    "#print(os.path.exists(archivo_pr))\n",
    "#print(os.path.exists(archivo_t2m))\n",
    "\n",
    "ds_pr = xr.open_dataset(r'C:/Users/Josemanuel/Desktop/Tesina/Data/CR2MET_pr_v2.0_day_1979_2020_005deg.nc')\n",
    "ds_t2m = xr.open_dataset(r'C:/Users/Josemanuel/Desktop/Tesina/Data/CR2MET_t2m_v2.0_day_1979_2020_005deg.nc')"
   ]
  },
  {
   "cell_type": "code",
   "execution_count": 21,
   "metadata": {},
   "outputs": [],
   "source": [
    "def parti(i,j,T=False, P=False):\n",
    "    if T:\n",
    "        \n",
    "        T = ds_t2m['t2m'][i:j,:,:]\n",
    "\n",
    "        # Elimina los valores NaN\n",
    "        #t_sn_part = xr.where(np.isnan(T), 0, T)\n",
    "        \n",
    "        return T.values\n",
    "    \n",
    "    if P:\n",
    "        \n",
    "        p = ds_pr['pr'][i:j,:,:]\n",
    "\n",
    "        # Elimina los valores NaN\n",
    "        #p_sn = xr.where(np.isnan(p), 0, p)\n",
    "\n",
    "        return p.values"
   ]
  },
  {
   "cell_type": "code",
   "execution_count": 6,
   "metadata": {},
   "outputs": [],
   "source": [
    "def modelo_completo_final(temp_sn, pres_sn, t_s, t_r, t_a, A_0, a, b, A_max):\n",
    "\n",
    "    #temp_sn = temp_sn.chunk(500000)\n",
    "    #pres_sn = pres_sn.chunk(500000)\n",
    "\n",
    "    # KSF \n",
    "\n",
    "    mask_nan = np.isnan(temp_sn)\n",
    "\n",
    "    # Inicializar k con NaN en todas partes\n",
    "    #k = np.zeros_like(temp_sn, dtype='float16')\n",
    "    k = np.full_like(temp_sn, np.nan, dtype='float16')\n",
    "\n",
    "    # Aplicar las condiciones a los valores no NaN\n",
    "    k[~mask_nan] = 0.0  # Inicializar con 0.0 en lugares donde temp_sn no es NaN\n",
    "    k[temp_sn <= t_s] = 1.0\n",
    "    mask = (t_s <= temp_sn) & (temp_sn <= t_r)\n",
    "    k[mask] = (t_r - temp_sn[mask]) / (t_r - t_s)\n",
    "    k[temp_sn > t_r] = 0.0\n",
    "\n",
    "    # A_*\n",
    "\n",
    "    #A_ast = np.zeros_like(temp_sn, dtype='float16')\n",
    "    A_ast = np.full_like(temp_sn, np.nan, dtype='float16')\n",
    "    A_ast[~mask_nan] = 0.0\n",
    "    A_ast[temp_sn <= t_a] = 0.0\n",
    "    mask = (t_a <= temp_sn) & (temp_sn <= 0)\n",
    "    A_ast[mask] = A_0*(t_a - temp_sn[mask]) / (t_a)\n",
    "    mask2 = (temp_sn > 0)\n",
    "    A_ast[mask2] =   a*(temp_sn[mask2]**2) + (b*temp_sn[mask2]) + A_0\n",
    "\n",
    "\n",
    "    # SNOWFALL\n",
    "\n",
    "    S_ = k * pres_sn \n",
    "\n",
    "    # ABLATION \n",
    "\n",
    "    A_ = np.full_like(S_, np.nan, dtype='float16')\n",
    "    #A_ = np.zeros(S_.shape, dtype='float16')\n",
    "    \n",
    "    # DELTA SWE\n",
    "\n",
    "    #SWE = np.zeros(S_.shape, dtype='float16')  # Initialize SWE with zeros of the same shape as S_\n",
    "    SWE = np.full_like(S_, np.nan, dtype='float16')\n",
    "\n",
    "    for i in range(S_.shape[0]):\n",
    "        if i == 0:\n",
    "            A_[i, ~mask_nan[i, :, :]] = np.minimum(np.minimum(A_max, A_ast[i, ~mask_nan[i, :, :]]), S_[i, ~mask_nan[i, :, :]])\n",
    "            SWE[i, ~mask_nan[i, :, :]] = S_[i, ~mask_nan[i, :, :]] - A_[i, ~mask_nan[i, :, :]]\n",
    "        else:\n",
    "            A_[i, ~mask_nan[i, :, :]] = np.minimum(np.minimum(A_max, A_ast[i, ~mask_nan[i, :, :]]), S_[i, ~mask_nan[i, :, :]])\n",
    "            SWE[i, ~mask_nan[i, :, :]] = SWE[i-1, ~mask_nan[i, :, :]] + (S_[i, ~mask_nan[i, :, :]] - A_[i, ~mask_nan[i, :, :]])\n",
    "\n",
    "    return SWE, S_, A_"
   ]
  },
  {
   "cell_type": "code",
   "execution_count": 7,
   "metadata": {},
   "outputs": [],
   "source": [
    "# T = ds_t2m['t2m'][:,:,:]\n",
    "# p = ds_pr['pr'][:,:,:]\n",
    "\n",
    "t_part = parti(0,15737, T=True)\n",
    "p_part = parti(0,15737, P=True)"
   ]
  },
  {
   "cell_type": "code",
   "execution_count": 9,
   "metadata": {},
   "outputs": [],
   "source": [
    "swe_c, snow_f, abla_c = modelo_completo_final(t_part, p_part, t_s, t_r, t_a, A_0, a, b, A_max) #swe_c, snow_f_c, abla_c, k"
   ]
  },
  {
   "cell_type": "code",
   "execution_count": 11,
   "metadata": {},
   "outputs": [],
   "source": [
    "swe_c = swe_c.astype('float32')\n",
    "snow_f = snow_f.astype('float32')\n",
    "abla_c = abla_c.astype('float32')\n",
    "#A_ast = A_ast.astype('float32')\n",
    "#k = k.astype('float32')\n",
    "\n",
    "ds_swe = xr.Dataset(\n",
    "    {\n",
    "        'swe': (['time', 'lat', 'lon'], swe_c, {'units': 'mm/day'}),\n",
    "        'snow_f': (['time', 'lat', 'lon'], snow_f, {'units': 'mm/day'}),\n",
    "        'abla': (['time', 'lat', 'lon'], abla_c, {'units': 'mm/day'}),\n",
    "         #'A_ast': (['time', 'lat', 'lon'], A_ast, {'units': 'mm/day'}),\n",
    "         #'k': (['time', 'lat', 'lon'], k, {'units': 'mm/day'})\n",
    "    },\n",
    "    coords={\n",
    "        'time': ds_pr['time'],\n",
    "        'lat': ds_pr['lat'],\n",
    "        'lon': ds_pr['lon']\n",
    "    }\n",
    ")\n",
    "\n",
    "# Agrega atributos adicionales si es necesario\n",
    "#ds_swe.attrs['units'] = 'mm'  # Ajusta las unidades según sea necesario\n",
    "\n",
    "# Guarda el conjunto de datos en un archivo NetCDF\n",
    "ds_swe.to_netcdf(r'C:/Users/Josemanuel/Desktop/Tesina/Resultados/SWE_day_1979_2020_7.nc')"
   ]
  }
 ],
 "metadata": {
  "kernelspec": {
   "display_name": "Python 3",
   "language": "python",
   "name": "python3"
  },
  "language_info": {
   "codemirror_mode": {
    "name": "ipython",
    "version": 3
   },
   "file_extension": ".py",
   "mimetype": "text/x-python",
   "name": "python",
   "nbconvert_exporter": "python",
   "pygments_lexer": "ipython3",
   "version": "3.8.9"
  }
 },
 "nbformat": 4,
 "nbformat_minor": 2
}
